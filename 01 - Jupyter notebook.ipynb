{
 "cells": [
  {
   "cell_type": "markdown",
   "metadata": {},
   "source": [
    "<div align=\"center\">\n",
    "<a href=\"https://aiblog.nl\"><img src=\".\\images\\aiblog_logo.png\" width=\"400\"></a>\n",
    "</div>\n",
    "\n",
    "# Jupyter\n",
    "\n",
    "<a href=\"https://jupyter.org/\">Jupyter notebooks</a> (zoals deze die je nu leest) is een hulpmiddel om documentatie en software code te combineren. Het is zeer handig voor wetenschappelijke en data science projecten. Vanwege het onderzoekende karakter van deze projecten is het inzichtelijk om software code af te wisselen met documentatie en (visuele) (tussen-)resultaten.\n",
    "\n",
    "Een Jupyter notebook bestaat uit twee delen. Het eerste deel is de editor waarin je werkt. Dit deel draait in een browser. Het tweede deel is de zogenaamde 'engine' of 'kernel'. Dit is de interpreter van de programmeertaal waarin je wilt programmeren. Inmiddels worden zeer veel talen ondersteund (zie <a href=\"https://github.com/jupyter/jupyter/wiki/Jupyter-kernels\">Jupyter Kernels</a>). De meest gebruikte taal is wellicht Python. De kernel moet ergens gehost worden. Dit kan, maar hoeft niet, op de zelfde computer te zijn als waar je browser draait. Hierdoor is het mogelijk om Jupyter Notebook interactief te maken op Internet via een dienst als <a href=\"https://mybinder.org/\">Binder</a>.\n",
    "\n",
    "## Hoe werkt het?\n",
    "Een Jupyter notebook is een document dat is opgebouwd uit 'cellen'. Er zijn  verschillende soorten cellen. De cel die je nu leest is een documentatie cel en wordt 'Markdown' genoemd. Een andere type cel is een 'Code' cel. Hierin schrijf je je programma code, zoals de cel hieronder."
   ]
  },
  {
   "cell_type": "code",
   "execution_count": 10,
   "metadata": {},
   "outputs": [
    {
     "name": "stdout",
     "output_type": "stream",
     "text": [
      "Hello World!\n"
     ]
    }
   ],
   "source": [
    "print(\"Hello World!\")"
   ]
  },
  {
   "cell_type": "markdown",
   "metadata": {},
   "source": [
    "### Markdown cell\n",
    "\n",
    "In een markdown cel kan je documentatie schrijven met behulp van enkele krachtige opmaaktechnieken. Een markdown cel ken twee modi: een tekst edit modus en een tekst weergave modus. In de edit modus kan je tekst wijzigen en de opmaak zien. Om van de edit modus naar de weergave modus te gaan druk je op SHIFT+ENTER. Om terug te gaan van de weergave modus naar de edit modus geef je een dubbel muisklik op de cel.\n",
    "\n",
    "Een volledig overzicht van de opmaaktechnieken kan je <a href=\"https://help.github.com/articles/basic-writing-and-formatting-syntax/\">hier</a> vinden. De belangrijkste zijn:"
   ]
  },
  {
   "cell_type": "raw",
   "metadata": {},
   "source": [
    "# Kop 1\n",
    "## Kop 2\n",
    "### Kop 3\n",
    "\n",
    "Dit is *schuin* en dit is **vet**.\n",
    "\n",
    "> hiermee kan je een citaat maken\n",
    "\n",
    "En hiermee kan je code zoals `print(\"Hello World!\")` weergeven.\n",
    "\n",
    "Grote stukken code gaat zo:\n",
    "\n",
    "```\n",
    "while True:\n",
    "    print(\"Hello World!)\n",
    "```\n",
    "\n",
    "En lijsten zijn ook makkelijk om te maken:\n",
    "\n",
    "- Gebruikt een streepje voor een item\n",
    "- En voeg dan je items toe\n",
    "- Dit gaat zo door\n",
    "\n",
    "Tenslotte, URL kan je toevoegen via [AIBLOG.NL](https://aiblog.nl), maar omdat je HTML kunt gebruiken kan dit ook op deze manier: <a href=\"https://aiblog.nl\">AIBLOG.NL</a>"
   ]
  },
  {
   "cell_type": "markdown",
   "metadata": {},
   "source": [
    "# Kop 1\n",
    "## Kop 2\n",
    "### Kop 3\n",
    "\n",
    "Dit is *schuin* en dit is **vet**.\n",
    "\n",
    "> hiermee kan je een citaat maken\n",
    "\n",
    "En hiermee kan je code zoals `print(\"Hello World!\")` weergeven.\n",
    "\n",
    "Grote stukken tekst gaat zo:\n",
    "\n",
    "```\n",
    "while True:\n",
    "    print(\"Hello World!)\n",
    "```\n",
    "\n",
    "En lijsten zijn ook makkelijk om te maken:\n",
    "\n",
    "- Gebruikt een streepje voor een item\n",
    "- En voeg dan je items toe\n",
    "- Dit gaat zo door\n",
    "\n",
    "Tenslotte, URL kan je toevoegen via [AIBLOG.NL](https://aiblog.nl), maar omdat je HTML kunt gebruiken kan dit ook op deze manier: <a href=\"https://aiblog.nl\">AIBLOG.NL</a>\n",
    "\n",
    "Overigens, de cel hierboven waarin je de opmaak ziet is een derde type cel \"Raw NBConvert\". Deze cel is handig om de opmaak van tekst te laten zien."
   ]
  },
  {
   "cell_type": "markdown",
   "metadata": {},
   "source": [
    "### Code cel\n",
    "\n",
    "In een code cel kan je programmeren. Alle code cellen in je documenten delen dezelfde geheugenruimte. Dus als je functies en variabele declareert ergens in een code cel, dan kan je deze ook gebruiken in andere cellen.\n",
    "\n",
    "In de meeste gevallen zal je in Python programmeren. Om de code uit te voeren kan je op SHIFT+ENTER drukken. Je kan ook in de toolbar op de 'play' knop klikken om alle cellen uit te voeren. Vaak is dit niet nodig, omdat je lokaal een stuk code aan het ontwikkelen en testen bent. Tenslotte kan je via het 'Cell' menu kiezen om een enkele of meerdere cellen uit te voeren.\n",
    "\n",
    "Het result van je code wordt weergegeven direct onder de code cel."
   ]
  },
  {
   "cell_type": "code",
   "execution_count": 2,
   "metadata": {},
   "outputs": [
    {
     "name": "stdout",
     "output_type": "stream",
     "text": [
      "0 - Hello world!\n",
      "1 - Hello world!\n",
      "2 - Hello world!\n",
      "3 - Hello world!\n",
      "4 - Hello world!\n"
     ]
    }
   ],
   "source": [
    "for i in range(5):\n",
    "    print(\"{} - Hello world!\".format(i))"
   ]
  },
  {
   "cell_type": "markdown",
   "metadata": {},
   "source": [
    "Dit geldt ook voor grafische resultaten."
   ]
  },
  {
   "cell_type": "code",
   "execution_count": 9,
   "metadata": {},
   "outputs": [
    {
     "data": {
      "image/png": "[encoded data removed]",
      "text/plain": [
       "<matplotlib.figure.Figure at 0x11726c7b8>"
      ]
     },
     "metadata": {},
     "output_type": "display_data"
    }
   ],
   "source": [
    "import matplotlib.pyplot as plt\n",
    "\n",
    "plt.figure()\n",
    "plt.plot([0,1,2,3,4,5])\n",
    "plt.show()"
   ]
  },
  {
   "cell_type": "markdown",
   "metadata": {},
   "source": [
    "## Tot slot\n",
    "\n",
    "Via het File menu kan je een nieuwe notebook starten. Je moet dan kiezen welke programmeertaal je wilt gaan gebruiken. Via het File menu heb je ook verschillende opties om je notebook te downloaden, zoals in PDF formaat.\n",
    "\n"
   ]
  },
  {
   "cell_type": "code",
   "execution_count": null,
   "metadata": {
    "collapsed": true
   },
   "outputs": [],
   "source": []
  }
 ],
 "metadata": {
  "kernelspec": {
   "display_name": "Python 3",
   "language": "python",
   "name": "python3"
  },
  "language_info": {
   "codemirror_mode": {
    "name": "ipython",
    "version": 3
   },
   "file_extension": ".py",
   "mimetype": "text/x-python",
   "name": "python",
   "nbconvert_exporter": "python",
   "pygments_lexer": "ipython3",
   "version": "3.6.3"
  }
 },
 "nbformat": 4,
 "nbformat_minor": 2
}

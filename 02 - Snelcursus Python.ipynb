{
 "cells": [
  {
   "cell_type": "markdown",
   "metadata": {},
   "source": [
    "<div align=\"center\">\n",
    "<a href=\"https://aiblog.nl\"><img src=\".\\images\\aiblog_logo.png\" width=\"400\"></a>\n",
    "</div>\n",
    "\n",
    "# Snelcursus Python\n",
    "\n",
    "Als je ervaring hebt met andere programmeertalen zoals c/c++, Java of Javascript dan kan je ook snel aan de slag met Python. Het is echt niet nodig om alle ins en outs van deze taal te kennen. Als je de basis weet - variabelen, control structures, functies en classes - dan kan je al aan de slag met Python. Gaande weg leer je meer over de beschikbare bibliotheken (zoals numpy, pandas, matplotlib) en speciale taal constructies. \n",
    "\n",
    "Uitgebreidde Engelstalige Python documentatie kan je vinden op [https://www.python.org/doc/](https://www.python.org/doc/). \n",
    "\n",
    "Als Python nog niet op je computer geïnstalleerd is dan kan je dit downloaden via [https://www.python.org/downloads/](https://www.python.org/downloads/). Dit is overigens niet nodig als je via Jupyter Notebook werkt en de Python kernel elders gehost wordt.\n",
    "\n",
    "Python is nog steeds in ontwikkeling. Nog niet zo lang geleden is er een grote update van de taal geweest van versie 2.x naar 3.x. Om compatibiliteitsproblemen te voorkomen kan je het beste de laatste versie gebruiken.\n",
    "\n",
    "\n",
    "## Variabelen declareren"
   ]
  },
  {
   "cell_type": "code",
   "execution_count": 1,
   "metadata": {},
   "outputs": [
    {
     "data": {
      "text/plain": [
       "1"
      ]
     },
     "execution_count": 1,
     "metadata": {},
     "output_type": "execute_result"
    }
   ],
   "source": [
    "a = 1\n",
    "a"
   ]
  },
  {
   "cell_type": "code",
   "execution_count": 2,
   "metadata": {},
   "outputs": [
    {
     "data": {
      "text/plain": [
       "(2, 3)"
      ]
     },
     "execution_count": 2,
     "metadata": {},
     "output_type": "execute_result"
    }
   ],
   "source": [
    "b, c = 2, 3\n",
    "b, c"
   ]
  },
  {
   "cell_type": "code",
   "execution_count": 3,
   "metadata": {},
   "outputs": [
    {
     "data": {
      "text/plain": [
       "(2, 3)"
      ]
     },
     "execution_count": 3,
     "metadata": {},
     "output_type": "execute_result"
    }
   ],
   "source": [
    "# commentaar in python begint met een hekje\n",
    "b = 2; c = 3\n",
    "b, c"
   ]
  },
  {
   "cell_type": "code",
   "execution_count": 4,
   "metadata": {
    "scrolled": true
   },
   "outputs": [
    {
     "name": "stdout",
     "output_type": "stream",
     "text": [
      "Hallo iedereen!\n"
     ]
    }
   ],
   "source": [
    "\"\"\"\n",
    "Commentaar met meerdere regels kan je maken \n",
    "door drie (enkele of dubbele) aanhalingstekens te gebruiken.\n",
    "\"\"\"\n",
    "str = \"Hallo iedereen!\"\n",
    "print(str)"
   ]
  },
  {
   "cell_type": "markdown",
   "metadata": {},
   "source": [
    "## Control structures\n",
    "\n",
    "Control structures in een programmeertaal zijn statements die de flow van execute bepalen door bepaalde condities te testen. Het grootste verschil met andere programmeertalen is dat Python geen haakjes `()` of accolades `{}` gebruikt om een code block aan te geven. Python werkt met inspringen van code om een blok code aan te geven.\n",
    "\n",
    "### IF statement"
   ]
  },
  {
   "cell_type": "code",
   "execution_count": 5,
   "metadata": {},
   "outputs": [
    {
     "name": "stdout",
     "output_type": "stream",
     "text": [
      "a is gelijk aan 3.\n"
     ]
    }
   ],
   "source": [
    "a = 3\n",
    "if a < 3:\n",
    "    print(\"a is kleiner dan 3.\")\n",
    "elif a == 3:\n",
    "    print(\"a is gelijk aan 3.\")   \n",
    "else:\n",
    "    print(\"a is groter dan 3\")"
   ]
  },
  {
   "cell_type": "markdown",
   "metadata": {},
   "source": [
    "### WHILE loop"
   ]
  },
  {
   "cell_type": "code",
   "execution_count": 6,
   "metadata": {},
   "outputs": [
    {
     "name": "stdout",
     "output_type": "stream",
     "text": [
      "3\n",
      "2\n",
      "1\n",
      "0\n"
     ]
    }
   ],
   "source": [
    "a = 3\n",
    "while a >= 0:\n",
    "    print(a)\n",
    "    a = a - 1"
   ]
  },
  {
   "cell_type": "markdown",
   "metadata": {},
   "source": [
    "### FOR loop\n",
    "\n",
    "In tegenstelling tot programmeertalen zoals c en c++ itereert een Python FOR loop over de elementen van een lijst."
   ]
  },
  {
   "cell_type": "code",
   "execution_count": 7,
   "metadata": {},
   "outputs": [
    {
     "name": "stdout",
     "output_type": "stream",
     "text": [
      "0\n",
      "1\n",
      "2\n"
     ]
    }
   ],
   "source": [
    "for a in [0, 1, 2]:\n",
    "    print(a)"
   ]
  },
  {
   "cell_type": "markdown",
   "metadata": {},
   "source": [
    "De Python functie `range()` wordt vaak gebruikt om een lijst te genereren."
   ]
  },
  {
   "cell_type": "code",
   "execution_count": 8,
   "metadata": {},
   "outputs": [
    {
     "name": "stdout",
     "output_type": "stream",
     "text": [
      "0\n",
      "1\n",
      "2\n"
     ]
    }
   ],
   "source": [
    "for a in range(0, 3):\n",
    "    print(a)"
   ]
  },
  {
   "cell_type": "markdown",
   "metadata": {},
   "source": [
    "Je kan met een FOR loop itereren over een willekeurige lijst met objecten. Met het statement `break` kan je voortijdig een FOR loop afbreken."
   ]
  },
  {
   "cell_type": "code",
   "execution_count": 9,
   "metadata": {},
   "outputs": [
    {
     "name": "stdout",
     "output_type": "stream",
     "text": [
      "Amsterdam\n",
      "Rotterdam\n",
      "Eindhoven\n"
     ]
    }
   ],
   "source": [
    "for str in ['Amsterdam', 'Rotterdam', 'Eindhoven', 'Maastricht']:\n",
    "    print(str)\n",
    "    if str == 'Eindhoven':\n",
    "        break"
   ]
  },
  {
   "cell_type": "markdown",
   "metadata": {},
   "source": [
    "## Functies"
   ]
  },
  {
   "cell_type": "code",
   "execution_count": 10,
   "metadata": {},
   "outputs": [
    {
     "data": {
      "text/plain": [
       "9"
      ]
     },
     "execution_count": 10,
     "metadata": {},
     "output_type": "execute_result"
    }
   ],
   "source": [
    "def kwadraat(x):\n",
    "    return x**2\n",
    "\n",
    "kwadraat(3)"
   ]
  },
  {
   "cell_type": "code",
   "execution_count": 11,
   "metadata": {},
   "outputs": [
    {
     "data": {
      "text/plain": [
       "(9, 16)"
      ]
     },
     "execution_count": 11,
     "metadata": {},
     "output_type": "execute_result"
    }
   ],
   "source": [
    "def kwadraat2(x, y):\n",
    "    \"\"\"\n",
    "    Een voorbeeld functie.\n",
    "    \n",
    "    Rekent kwadraat uit van twee getallen.\n",
    "    \n",
    "    PS. Meer-regelig commentaar in een functie of class\n",
    "    wordt gezien als een docstring. Met help(kwadraat) \n",
    "    krijg je deze docstring te zien.\n",
    "    \"\"\"\n",
    "    return x**2, y**2\n",
    "\n",
    "a, b = kwadraat2(3, 4)\n",
    "a, b"
   ]
  },
  {
   "cell_type": "code",
   "execution_count": 12,
   "metadata": {},
   "outputs": [
    {
     "name": "stdout",
     "output_type": "stream",
     "text": [
      "Help on function kwadraat2 in module __main__:\n",
      "\n",
      "kwadraat2(x, y)\n",
      "    Een voorbeeld functie.\n",
      "    \n",
      "    Rekent kwadraat uit van twee getallen.\n",
      "    \n",
      "    PS. Meer-regelig commentaar in een functie of class\n",
      "    wordt gezien als een docstring. Met help(kwadraat) \n",
      "    krijg je deze docstring te zien.\n",
      "\n"
     ]
    }
   ],
   "source": [
    "help(kwadraat2)"
   ]
  },
  {
   "cell_type": "markdown",
   "metadata": {},
   "source": [
    "De argumenten van een functie kunnen een standaard waarde krijgen. Als het argument niet wordt meegegeven wanneer de functie wordt aangeroepen dan wordt de standaard waarde gebruikt. Een Python functie werkt volgens het 'pass-by-object' principe. Dit betekent dat het van het object afhangt of wijzigingen aan het object binnen de functie scope ook zichtbaar zijn buiten de functie scope."
   ]
  },
  {
   "cell_type": "code",
   "execution_count": 13,
   "metadata": {},
   "outputs": [
    {
     "name": "stdout",
     "output_type": "stream",
     "text": [
      "myprint : Hallo iedereen!\n"
     ]
    }
   ],
   "source": [
    "def myprint(tekst, prefix='myprint : '):\n",
    "    print(\"{}{}\".format(prefix, tekst))\n",
    "    \n",
    "myprint(\"Hallo iedereen!\")"
   ]
  },
  {
   "cell_type": "code",
   "execution_count": 14,
   "metadata": {},
   "outputs": [
    {
     "name": "stdout",
     "output_type": "stream",
     "text": [
      "Hallo iedereen\n"
     ]
    }
   ],
   "source": [
    "myprint(\"Hallo iedereen\", prefix='')"
   ]
  },
  {
   "cell_type": "markdown",
   "metadata": {},
   "source": [
    "Een Python functie werkt volgens het 'pass-by-object' principe. Dit betekent dat het van het object afhangt of wijzigingen aan het object binnen de functie scope ook zichtbaar zijn buiten de functie scope."
   ]
  },
  {
   "cell_type": "code",
   "execution_count": 21,
   "metadata": {},
   "outputs": [
    {
     "name": "stdout",
     "output_type": "stream",
     "text": [
      "3\n",
      "2\n",
      "3\n"
     ]
    }
   ],
   "source": [
    "a = 3\n",
    "def foo(x):\n",
    "    x = x - 1\n",
    "    return x\n",
    "\n",
    "print(a)\n",
    "print(foo(a))\n",
    "print(a)"
   ]
  },
  {
   "cell_type": "code",
   "execution_count": 20,
   "metadata": {},
   "outputs": [
    {
     "name": "stdout",
     "output_type": "stream",
     "text": [
      "[1, 2]\n",
      "0\n",
      "[1, 2, 3]\n"
     ]
    }
   ],
   "source": [
    "l = [1, 2]\n",
    "def foo(x):\n",
    "    x.append(3)\n",
    "    return 0\n",
    "\n",
    "print(l)\n",
    "print(foo(l))\n",
    "print(l)"
   ]
  },
  {
   "cell_type": "markdown",
   "metadata": {},
   "source": [
    "## Classes\n",
    "\n"
   ]
  },
  {
   "cell_type": "code",
   "execution_count": 22,
   "metadata": {},
   "outputs": [
    {
     "data": {
      "text/plain": [
       "31.41"
      ]
     },
     "execution_count": 22,
     "metadata": {},
     "output_type": "execute_result"
    }
   ],
   "source": [
    "class Cirkel:\n",
    "    \"\"\"Een cirkel class.\"\"\"\n",
    "    \n",
    "    def __init__(self, straal):\n",
    "        self.straal = straal\n",
    "        \n",
    "    def omtrek(self):\n",
    "        \"\"\"Berekent de omtrek van de cirkel.\"\"\"\n",
    "        return 2 * 3.141 * self.straal\n",
    "    \n",
    "    def oppervlak(self):\n",
    "        \"\"\"Berekent het oppervlak van een cirkel.\"\"\"\n",
    "        return 3.14 * kwadraat(self.straal)\n",
    "    \n",
    "cirkel = Cirkel(5.0)\n",
    "cirkel.omtrek()"
   ]
  },
  {
   "cell_type": "code",
   "execution_count": 23,
   "metadata": {},
   "outputs": [
    {
     "data": {
      "text/plain": [
       "78.5"
      ]
     },
     "execution_count": 23,
     "metadata": {},
     "output_type": "execute_result"
    }
   ],
   "source": [
    "cirkel.oppervlak()"
   ]
  },
  {
   "cell_type": "code",
   "execution_count": 24,
   "metadata": {},
   "outputs": [
    {
     "name": "stdout",
     "output_type": "stream",
     "text": [
      "Help on class Cirkel in module __main__:\n",
      "\n",
      "class Cirkel(builtins.object)\n",
      " |  Een cirkel class.\n",
      " |  \n",
      " |  Methods defined here:\n",
      " |  \n",
      " |  __init__(self, straal)\n",
      " |      Initialize self.  See help(type(self)) for accurate signature.\n",
      " |  \n",
      " |  omtrek(self)\n",
      " |      Berekent de omtrek van de cirkel.\n",
      " |  \n",
      " |  oppervlak(self)\n",
      " |      Berekent het oppervlak van een cirkel.\n",
      " |  \n",
      " |  ----------------------------------------------------------------------\n",
      " |  Data descriptors defined here:\n",
      " |  \n",
      " |  __dict__\n",
      " |      dictionary for instance variables (if defined)\n",
      " |  \n",
      " |  __weakref__\n",
      " |      list of weak references to the object (if defined)\n",
      "\n"
     ]
    }
   ],
   "source": [
    "help(Cirkel)"
   ]
  }
 ],
 "metadata": {
  "kernelspec": {
   "display_name": "Python 3",
   "language": "python",
   "name": "python3"
  },
  "language_info": {
   "codemirror_mode": {
    "name": "ipython",
    "version": 3
   },
   "file_extension": ".py",
   "mimetype": "text/x-python",
   "name": "python",
   "nbconvert_exporter": "python",
   "pygments_lexer": "ipython3",
   "version": "3.6.3"
  }
 },
 "nbformat": 4,
 "nbformat_minor": 2
}
